{
 "cells": [
  {
   "cell_type": "code",
   "execution_count": 28,
   "metadata": {},
   "outputs": [
    {
     "name": "stdout",
     "output_type": "stream",
     "text": [
      "19370101    8267\n",
      "19380101    1473\n",
      "19390101    1170\n",
      "19460101    1064\n",
      "19340101    1041\n",
      "19360101    1036\n",
      "19400101     850\n",
      "19470101     779\n",
      "19410101     683\n",
      "19300101     648\n",
      "19420101     534\n",
      "19350101     486\n",
      "19330101     469\n",
      "19310101     437\n",
      "19450101     421\n",
      "19320101     418\n",
      "19480101     334\n",
      "19290101     305\n",
      "19430101     275\n",
      "19280101     144\n",
      "19490101     102\n",
      "19440101      60\n",
      "19270101      49\n",
      "19260101      45\n",
      "19510101      44\n",
      "19500101      38\n",
      "19250101      37\n",
      "19550101      34\n",
      "19540101      32\n",
      "19530101      25\n",
      "            ... \n",
      "19220101      11\n",
      "19200101      10\n",
      "19210101      10\n",
      "19560101       6\n",
      "19570101       6\n",
      "19170101       4\n",
      "19190101       4\n",
      "19670101       4\n",
      "19130101       4\n",
      "19610101       3\n",
      "19140101       3\n",
      "19180101       3\n",
      "19650101       3\n",
      "19630101       3\n",
      "19870101       3\n",
      "19600101       3\n",
      "19590101       2\n",
      "19710101       2\n",
      "19160101       2\n",
      "19640101       1\n",
      "19750101       1\n",
      "19720101       1\n",
      "19690101       1\n",
      "19810101       1\n",
      "19110101       1\n",
      "19660101       1\n",
      "19150101       1\n",
      "19680101       1\n",
      "19620101       1\n",
      "19790101       1\n",
      "dtype: int64\n"
     ]
    }
   ],
   "source": [
    "import pandas as pd\n",
    "import numpy as np\n",
    "from pandas import Series\n",
    "\n",
    "df1 = pd.read_csv(\"/Users/ns/dev/python/Firmenakten/Staatsarchiv_Leipzig_Metadaten_BV-Firmenakten.csv\")\n",
    "#print(df1)\n",
    "\n",
    "\n",
    "\n",
    "#df1.dtypes\n",
    "#df2 = pd.DataFrame(data=df1, dtype=np.str)\n",
    "\n",
    "listDF = df1['Datierung von(Zahl)'].tolist()\n",
    "\n",
    "s = Series(listDF)\n",
    "vc = s.value_counts()\n",
    "print(vc)\n",
    "#df2.dtypes\n",
    "#print(listDF[0:10])\n",
    "#count, division = np.histogram()\n",
    "\n",
    "#np.histogram(listDF[1:5])"
   ]
  },
  {
   "cell_type": "code",
   "execution_count": null,
   "metadata": {},
   "outputs": [],
   "source": []
  },
  {
   "cell_type": "code",
   "execution_count": null,
   "metadata": {},
   "outputs": [],
   "source": []
  }
 ],
 "metadata": {
  "kernelspec": {
   "display_name": "Python 3",
   "language": "python",
   "name": "python3"
  },
  "language_info": {
   "codemirror_mode": {
    "name": "ipython",
    "version": 3
   },
   "file_extension": ".py",
   "mimetype": "text/x-python",
   "name": "python",
   "nbconvert_exporter": "python",
   "pygments_lexer": "ipython3",
   "version": "3.6.0"
  }
 },
 "nbformat": 4,
 "nbformat_minor": 2
}
